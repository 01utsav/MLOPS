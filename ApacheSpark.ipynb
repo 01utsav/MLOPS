{
  "nbformat": 4,
  "nbformat_minor": 0,
  "metadata": {
    "colab": {
      "provenance": []
    },
    "kernelspec": {
      "name": "python3",
      "display_name": "Python 3"
    },
    "language_info": {
      "name": "python"
    }
  },
  "cells": [
    {
      "cell_type": "code",
      "execution_count": null,
      "metadata": {
        "colab": {
          "base_uri": "https://localhost:8080/"
        },
        "id": "Ro9RwjQi2-vV",
        "outputId": "e7fde965-b925-4f65-a87f-b08f2a904ee1"
      },
      "outputs": [
        {
          "output_type": "stream",
          "name": "stdout",
          "text": [
            "Collecting pyspark\n",
            "  Downloading pyspark-3.5.0.tar.gz (316.9 MB)\n",
            "\u001b[2K     \u001b[90m━━━━━━━━━━━━━━━━━━━━━━━━━━━━━━━━━━━━━━━━\u001b[0m \u001b[32m316.9/316.9 MB\u001b[0m \u001b[31m2.7 MB/s\u001b[0m eta \u001b[36m0:00:00\u001b[0m\n",
            "\u001b[?25h  Preparing metadata (setup.py) ... \u001b[?25l\u001b[?25hdone\n",
            "Requirement already satisfied: py4j==0.10.9.7 in /usr/local/lib/python3.10/dist-packages (from pyspark) (0.10.9.7)\n",
            "Building wheels for collected packages: pyspark\n",
            "  Building wheel for pyspark (setup.py) ... \u001b[?25l\u001b[?25hdone\n",
            "  Created wheel for pyspark: filename=pyspark-3.5.0-py2.py3-none-any.whl size=317425345 sha256=c44917e893cd26da060d42ad2716fb052b718ddad6572fce4f15b5368164154f\n",
            "  Stored in directory: /root/.cache/pip/wheels/41/4e/10/c2cf2467f71c678cfc8a6b9ac9241e5e44a01940da8fbb17fc\n",
            "Successfully built pyspark\n",
            "Installing collected packages: pyspark\n",
            "Successfully installed pyspark-3.5.0\n"
          ]
        }
      ],
      "source": [
        "!pip install pyspark"
      ]
    },
    {
      "cell_type": "code",
      "source": [
        "from pyspark.sql import SparkSession"
      ],
      "metadata": {
        "id": "y_cMjDns3FJ2"
      },
      "execution_count": null,
      "outputs": []
    },
    {
      "cell_type": "code",
      "source": [
        "spark = SparkSession.builder.appName('Missing').getOrCreate()\n",
        "training = spark.read.csv('names.csv', header=True , inferSchema=True)"
      ],
      "metadata": {
        "id": "_rjTdFMR3zaQ"
      },
      "execution_count": null,
      "outputs": []
    },
    {
      "cell_type": "code",
      "source": [
        "training.show()"
      ],
      "metadata": {
        "colab": {
          "base_uri": "https://localhost:8080/"
        },
        "id": "vFfOs6wG4unL",
        "outputId": "e183a2bf-1184-4bba-ae3a-9e895ff795bb"
      },
      "execution_count": null,
      "outputs": [
        {
          "output_type": "stream",
          "name": "stdout",
          "text": [
            "+-------+---+-------+\n",
            "|   Name|Age| Salary|\n",
            "+-------+---+-------+\n",
            "| Saurin| 21|2000000|\n",
            "|Devarya| 21| 400000|\n",
            "|  Aryan| 25|3000000|\n",
            "|  Manit| 18|5000000|\n",
            "+-------+---+-------+\n",
            "\n"
          ]
        }
      ]
    },
    {
      "cell_type": "code",
      "source": [
        "training.columns"
      ],
      "metadata": {
        "colab": {
          "base_uri": "https://localhost:8080/"
        },
        "id": "VAsDPOtr406K",
        "outputId": "223b6b6c-7f8c-44be-c12b-4d959a774e47"
      },
      "execution_count": null,
      "outputs": [
        {
          "output_type": "execute_result",
          "data": {
            "text/plain": [
              "['Name', 'Age', 'Salary']"
            ]
          },
          "metadata": {},
          "execution_count": 6
        }
      ]
    },
    {
      "cell_type": "code",
      "source": [
        "from pyspark.ml.feature import VectorAssembler"
      ],
      "metadata": {
        "id": "6qqcBOfr45rc"
      },
      "execution_count": null,
      "outputs": []
    },
    {
      "cell_type": "code",
      "source": [
        "feature=VectorAssembler(inputCols=[\"Age\"],outputCol=\"Indepedant feature\")"
      ],
      "metadata": {
        "id": "mXUOiUwm49au"
      },
      "execution_count": null,
      "outputs": []
    },
    {
      "cell_type": "code",
      "source": [
        "output=feature.transform(training)"
      ],
      "metadata": {
        "id": "yPji1q2w5JZl"
      },
      "execution_count": null,
      "outputs": []
    },
    {
      "cell_type": "code",
      "source": [
        "output.show()"
      ],
      "metadata": {
        "colab": {
          "base_uri": "https://localhost:8080/"
        },
        "id": "FwzNsRQJ5OCI",
        "outputId": "07bb4420-39d3-4508-96a0-ca22c9a1cb86"
      },
      "execution_count": null,
      "outputs": [
        {
          "output_type": "stream",
          "name": "stdout",
          "text": [
            "+-------+---+-------+------------------+\n",
            "|   Name|Age| Salary|Indepedant feature|\n",
            "+-------+---+-------+------------------+\n",
            "| Saurin| 21|2000000|            [21.0]|\n",
            "|Devarya| 21| 400000|            [21.0]|\n",
            "|  Aryan| 25|3000000|            [25.0]|\n",
            "|  Manit| 18|5000000|            [18.0]|\n",
            "+-------+---+-------+------------------+\n",
            "\n"
          ]
        }
      ]
    },
    {
      "cell_type": "code",
      "source": [
        "finaldata=output.select(\"Indepedant feature\",\"Salary\")"
      ],
      "metadata": {
        "id": "HrgUfK_o5YAz"
      },
      "execution_count": null,
      "outputs": []
    },
    {
      "cell_type": "code",
      "source": [
        "finaldata.show()"
      ],
      "metadata": {
        "colab": {
          "base_uri": "https://localhost:8080/"
        },
        "id": "oujYFUiE6WmQ",
        "outputId": "b4ed58b8-a060-4148-e59e-a9811d0fdfea"
      },
      "execution_count": null,
      "outputs": [
        {
          "output_type": "stream",
          "name": "stdout",
          "text": [
            "+------------------+-------+\n",
            "|Indepedant feature| Salary|\n",
            "+------------------+-------+\n",
            "|            [21.0]|2000000|\n",
            "|            [21.0]| 400000|\n",
            "|            [25.0]|3000000|\n",
            "|            [18.0]|5000000|\n",
            "+------------------+-------+\n",
            "\n"
          ]
        }
      ]
    },
    {
      "cell_type": "code",
      "source": [
        "from pyspark.ml.regression import LinearRegression"
      ],
      "metadata": {
        "id": "qLa3p-Oc6bM2"
      },
      "execution_count": null,
      "outputs": []
    },
    {
      "cell_type": "code",
      "source": [
        "train_data,test_data=finaldata.randomSplit([0.67,0.33])\n",
        "reg=LinearRegression(featuresCol='Indepedant feature',labelCol='Salary')\n",
        "reg=reg.fit(train_data)\n"
      ],
      "metadata": {
        "id": "UoUmsc2s6hp8"
      },
      "execution_count": null,
      "outputs": []
    },
    {
      "cell_type": "code",
      "source": [
        "reg.coefficients"
      ],
      "metadata": {
        "colab": {
          "base_uri": "https://localhost:8080/"
        },
        "id": "IxyNQR946v1L",
        "outputId": "d7d831e9-957c-4b39-fa7d-c11313964f03"
      },
      "execution_count": null,
      "outputs": [
        {
          "output_type": "execute_result",
          "data": {
            "text/plain": [
              "DenseVector([-1000000.0])"
            ]
          },
          "metadata": {},
          "execution_count": 21
        }
      ]
    },
    {
      "cell_type": "code",
      "source": [
        "reg.intercept"
      ],
      "metadata": {
        "colab": {
          "base_uri": "https://localhost:8080/"
        },
        "id": "Ah2VPke_6zeO",
        "outputId": "aabbbe3e-db5d-479f-a8d3-4518c73004ff"
      },
      "execution_count": null,
      "outputs": [
        {
          "output_type": "execute_result",
          "data": {
            "text/plain": [
              "22999999.99999936"
            ]
          },
          "metadata": {},
          "execution_count": 22
        }
      ]
    },
    {
      "cell_type": "code",
      "source": [
        "Pred_result=reg.evaluate(test_data)"
      ],
      "metadata": {
        "id": "CfBdjTYP61js"
      },
      "execution_count": null,
      "outputs": []
    },
    {
      "cell_type": "code",
      "source": [
        "Pred_result.predictions.show()\n"
      ],
      "metadata": {
        "colab": {
          "base_uri": "https://localhost:8080/"
        },
        "id": "iA5Ejvsx63z6",
        "outputId": "a9e17bf7-3d51-4388-ab5d-12908b5c7ce5"
      },
      "execution_count": null,
      "outputs": [
        {
          "output_type": "stream",
          "name": "stdout",
          "text": [
            "+------------------+-------+-------------------+\n",
            "|Indepedant feature| Salary|         prediction|\n",
            "+------------------+-------+-------------------+\n",
            "|            [21.0]| 400000| 2000000.0000000484|\n",
            "|            [25.0]|3000000|-1999999.9999998212|\n",
            "+------------------+-------+-------------------+\n",
            "\n"
          ]
        }
      ]
    },
    {
      "cell_type": "code",
      "source": [
        "Pred_result.meanAbsoluteError,Pred_result.meanSquaredError"
      ],
      "metadata": {
        "colab": {
          "base_uri": "https://localhost:8080/"
        },
        "id": "FzgCJVan7S4i",
        "outputId": "a799ee24-7ee0-44f2-f927-1787ef5f34c9"
      },
      "execution_count": null,
      "outputs": [
        {
          "output_type": "execute_result",
          "data": {
            "text/plain": [
              "(3299999.999999935, 13779999999999.184)"
            ]
          },
          "metadata": {},
          "execution_count": 25
        }
      ]
    },
    {
      "cell_type": "code",
      "source": [],
      "metadata": {
        "id": "ZnnTUeuh7ZUA"
      },
      "execution_count": null,
      "outputs": []
    }
  ]
}